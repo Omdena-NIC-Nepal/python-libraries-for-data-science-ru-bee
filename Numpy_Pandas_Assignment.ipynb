# NumPy and Pandas Assignment
# Complete the following tasks by filling in the code where indicated.
# Ensure your notebook is well-documented with markdown cells explaining your code and results.

import numpy as np
import pandas as pd

# Task 1: NumPy Basics

# 1. Array Creation
# Create a 1D and a 2D NumPy array
arr_1d = np.array([1, 2, 3, 4, 5])
print("1D Array:", arr_1d)

arr_2d = np.array([[1, 2, 3], [4, 5, 6]])
print("2D Array:\n", arr_2d)

# 2. Array Operations
# Perform basic arithmetic operations on the arrays
arr_1d_add = arr_1d + 10
arr_2d_mult = arr_2d * 2
print("1D Array + 10:", arr_1d_add)
print("2D Array * 2:\n", arr_2d_mult)

# 3. Indexing and Slicing
# Demonstrate indexing and slicing on the arrays
print("First element of 1D array:", arr_1d[0])
print("First row of 2D array:\n", arr_2d[0, :])

# 4. Shape and Reshape
# Show how to check the shape of an array and reshape it
print("Shape of 2D array:", arr_2d.shape)
reshaped_arr = arr_2d.reshape((3, 2))
print("Reshaped 2D Array:\n", reshaped_arr)

# Task 2: Pandas Basics

# 1. Series and DataFrame Creation
# Create a Pandas Series and DataFrame
c

# 2. Reading Data
# Read data from a CSV file (ensure you have a sample CSV file in your repository)
df_read = pd.read_csv('sample_data.csv')
print("Read DataFrame from CSV:\n", df_read)

# 3. Data Inspection
# Perform basic data inspection methods
print("Head of DataFrame:\n", df.head())
print("Info of DataFrame:\n", df.info())
print("Description of DataFrame:\n", df.describe())

# 4. Data Manipulation
# Selecting Data
print("Column A:\n", df['A'])
print("Columns A and B:\n", df[['A', 'B']])

# Filtering Data
filtered_df = df[df['A'] > 1]
print("Filtered DataFrame (A > 1):\n", filtered_df)

# Adding/Removing Columns
df['D'] = df['A'] + df['B']
print("DataFrame with new column D:\n", df)
df.drop('D', axis=1, inplace=True)
print("DataFrame after dropping column D:\n", df)

# Handling Missing Data
df_with_nan = df.copy()
df_with_nan.loc[1, 'B'] = np.nan
print("DataFrame with NaN:\n", df_with_nan)
print("DataFrame after dropping NaN:\n", df_with_nan.dropna())
print("DataFrame after filling NaN with 0:\n", df_with_nan.fillna(0))

# Task 3: Data Analysis with Pandas

# Aggregations
print("Mean of column A:", df['A'].mean())
print("Sum of column A:", df['A'].sum())

# Merging and Joining
df1 = pd.DataFrame({'key': ['A', 'B', 'C'], 'value': [1, 2, 3]})
df2 = pd.DataFrame({'key': ['A', 'B', 'D'], 'value': [4, 5, 6]})
merged_df = pd.merge(df1, df2, on='key', how='inner')
print("Merged DataFrame:\n", merged_df)

# Pivot Tables
pivot_df = df.pivot_table(values='C', index='A', columns='B', aggfunc='mean')
print("Pivot Table:\n", pivot_df)

# Time Series Analysis
df['date'] = pd.date_range(start='1/1/2020', periods=len(df), freq='D')
df.set_index('date', inplace=True)
print("DataFrame with Date Index:\n", df)
resampled_df = df.resample('M').mean()
print("Resampled DataFrame:\n", resampled_df)
