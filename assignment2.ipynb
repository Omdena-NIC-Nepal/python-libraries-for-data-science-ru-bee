{
 "cells": [
  {
   "cell_type": "markdown",
   "metadata": {},
   "source": [
    "# Numpy and Panda Assignment"
   ]
  },
  {
   "cell_type": "code",
   "execution_count": 3,
   "metadata": {},
   "outputs": [],
   "source": [
    "# importing numpy and pands\n",
    "import numpy as np\n",
    "import pandas as pd"
   ]
  },
  {
   "cell_type": "markdown",
   "metadata": {},
   "source": [
    "# Task 1: Numpy Basics \n",
    "## 1. Array Creation\n",
    "### Create a 1D and 2D Numpy array"
   ]
  },
  {
   "cell_type": "code",
   "execution_count": 10,
   "metadata": {},
   "outputs": [
    {
     "name": "stdout",
     "output_type": "stream",
     "text": [
      "1D Array:  [1 2 3 4 5 6]\n"
     ]
    }
   ],
   "source": [
    "# Creating a 1D Numpy array\n",
    "arr_1d = np.array([1,2,3,4,5,6])\n",
    "print(\"1D Array: \",arr_1d)"
   ]
  },
  {
   "cell_type": "code",
   "execution_count": 8,
   "metadata": {},
   "outputs": [
    {
     "name": "stdout",
     "output_type": "stream",
     "text": [
      "2D Array:\n",
      " [[1 2 3]\n",
      " [4 5 6]]\n"
     ]
    }
   ],
   "source": [
    "# Creating a 2D Numpy array\n",
    "arr_2d = np.array([[1,2,3],[4,5,6]])\n",
    "print(\"2D Array:\\n\", arr_2d)"
   ]
  },
  {
   "cell_type": "markdown",
   "metadata": {},
   "source": [
    "## 2. Array Operations\n",
    "### Perform basic arithmetic operations on the arrays"
   ]
  },
  {
   "cell_type": "code",
   "execution_count": 11,
   "metadata": {},
   "outputs": [
    {
     "name": "stdout",
     "output_type": "stream",
     "text": [
      "1D Array: [1 2 3 4 5 6]\n",
      "1D Array + 10: [11 12 13 14 15 16]\n"
     ]
    }
   ],
   "source": [
    "#printing 1D array\n",
    "print(\"1D Array:\", arr_1d)\n",
    "# Performing sum in 1D array\n",
    "arr_1d_add = arr_1d + 10\n",
    "print(\"1D Array + 10:\", arr_1d_add)"
   ]
  },
  {
   "cell_type": "code",
   "execution_count": 12,
   "metadata": {},
   "outputs": [
    {
     "name": "stdout",
     "output_type": "stream",
     "text": [
      "2D array:\n",
      " [[1 2 3]\n",
      " [4 5 6]]\n",
      "2D Array * 2:\n",
      " [[ 2  4  6]\n",
      " [ 8 10 12]]\n"
     ]
    }
   ],
   "source": [
    "# printing 2D array\n",
    "print(\"2D array:\\n\", arr_2d)\n",
    "#performing multiplication in 2D array\n",
    "arr_2d_mult = arr_2d * 2\n",
    "print(\"2D Array * 2:\\n\", arr_2d_mult)"
   ]
  },
  {
   "cell_type": "markdown",
   "metadata": {},
   "source": [
    "## 3. Indexing and Slicing\n",
    "### Demonstrate indexing and slicing on the arrays"
   ]
  },
  {
   "cell_type": "code",
   "execution_count": 13,
   "metadata": {},
   "outputs": [
    {
     "name": "stdout",
     "output_type": "stream",
     "text": [
      "First element of 1D array: 1\n"
     ]
    }
   ],
   "source": [
    "# printing element of 1D with index 0\n",
    "print(\"First element of 1D array:\", arr_1d[0])"
   ]
  },
  {
   "cell_type": "code",
   "execution_count": 16,
   "metadata": {},
   "outputs": [
    {
     "name": "stdout",
     "output_type": "stream",
     "text": [
      "First row of 2D array:\n",
      " [1 2 3]\n"
     ]
    }
   ],
   "source": [
    "# printing row of 2D array with row index and column using explicit slicing \n",
    "print(\"First row of 2D array:\\n\", arr_2d[0, :])"
   ]
  },
  {
   "cell_type": "code",
   "execution_count": 17,
   "metadata": {},
   "outputs": [
    {
     "name": "stdout",
     "output_type": "stream",
     "text": [
      "First row of 2D array:\n",
      " [1 2 3]\n"
     ]
    }
   ],
   "source": [
    "# printing row of 2D using shorthand notation\n",
    "print(\"First row of 2D array:\\n\", arr_2d[0])"
   ]
  },
  {
   "cell_type": "markdown",
   "metadata": {},
   "source": [
    "## 4. Shape and Reshape\n",
    "### Show how to check the shape of an array and reshape it"
   ]
  },
  {
   "cell_type": "code",
   "execution_count": 18,
   "metadata": {},
   "outputs": [
    {
     "name": "stdout",
     "output_type": "stream",
     "text": [
      "Shape of 2D array: (2, 3)\n"
     ]
    }
   ],
   "source": [
    "# checking the shape of the 2D array\n",
    "print(\"Shape of 2D array:\", arr_2d.shape)\n",
    "\n",
    "# output shows (rows,columns)\n"
   ]
  },
  {
   "cell_type": "code",
   "execution_count": 20,
   "metadata": {},
   "outputs": [
    {
     "name": "stdout",
     "output_type": "stream",
     "text": [
      "Reshaped 2D Array:\n",
      " [[1 2]\n",
      " [3 4]\n",
      " [5 6]]\n"
     ]
    }
   ],
   "source": [
    "# reshaping the 2D array \n",
    "reshaped_arr = arr_2d.reshape((3, 2)) #making 3 rows and 2 column\n",
    "print(\"Reshaped 2D Array:\\n\", reshaped_arr)"
   ]
  },
  {
   "cell_type": "markdown",
   "metadata": {},
   "source": [
    "# Task 2: Pandas Basics\n",
    "\n",
    "## 1. Series and DataFrame Creation\n",
    "### Create a Pandas Series and DataFrame"
   ]
  },
  {
   "cell_type": "code",
   "execution_count": 21,
   "metadata": {},
   "outputs": [
    {
     "name": "stdout",
     "output_type": "stream",
     "text": [
      "Pandas Series:\n",
      " 0    1\n",
      "1    2\n",
      "2    3\n",
      "3    4\n",
      "4    5\n",
      "dtype: int64\n"
     ]
    }
   ],
   "source": [
    "# creating pands series\n",
    "s = pd.Series([1, 2, 3, 4, 5])\n",
    "print(\"Pandas Series:\\n\", s)"
   ]
  },
  {
   "cell_type": "code",
   "execution_count": 22,
   "metadata": {},
   "outputs": [
    {
     "name": "stdout",
     "output_type": "stream",
     "text": [
      "Pandas DataFrame:\n",
      "    A  B  C\n",
      "0  1  4  7\n",
      "1  2  5  8\n",
      "2  3  6  9\n"
     ]
    }
   ],
   "source": [
    "# creating panda dataframe\n",
    "df = pd.DataFrame({\n",
    "    'A': [1, 2, 3],\n",
    "    'B': [4, 5, 6],\n",
    "    'C': [7, 8, 9]\n",
    "})\n",
    "print(\"Pandas DataFrame:\\n\", df)"
   ]
  },
  {
   "cell_type": "markdown",
   "metadata": {},
   "source": [
    "## 2. Reading Data\n",
    "### Read data from a CSV file (ensure you have a sample CSV file in your repository)\n"
   ]
  },
  {
   "cell_type": "code",
   "execution_count": 24,
   "metadata": {},
   "outputs": [
    {
     "name": "stdout",
     "output_type": "stream",
     "text": [
      "Read DataFrame from CSV:\n",
      "    A  B  C\n",
      "0  1  4  7\n",
      "1  2  5  8\n",
      "2  3  6  9\n"
     ]
    }
   ],
   "source": [
    "# reading data form csv file\n",
    "df_read = pd.read_csv('sample_data.csv')\n",
    "print(\"Read DataFrame from CSV:\\n\", df_read)"
   ]
  },
  {
   "cell_type": "markdown",
   "metadata": {},
   "source": [
    "## 3. Data Inspection\n",
    "### Perform basic data inspection methods\n"
   ]
  },
  {
   "cell_type": "code",
   "execution_count": 30,
   "metadata": {},
   "outputs": [
    {
     "name": "stdout",
     "output_type": "stream",
     "text": [
      "Head of DataFrame:\n",
      "    A  B  C\n",
      "0  1  4  7\n",
      "1  2  5  8\n",
      "2  3  6  9\n"
     ]
    }
   ],
   "source": [
    "# displaying the head (first 5 rows)\n",
    "print(\"Head of DataFrame:\\n\", df.head())"
   ]
  },
  {
   "cell_type": "code",
   "execution_count": 31,
   "metadata": {},
   "outputs": [
    {
     "name": "stdout",
     "output_type": "stream",
     "text": [
      "<class 'pandas.core.frame.DataFrame'>\n",
      "RangeIndex: 3 entries, 0 to 2\n",
      "Data columns (total 3 columns):\n",
      " #   Column  Non-Null Count  Dtype\n",
      "---  ------  --------------  -----\n",
      " 0   A       3 non-null      int64\n",
      " 1   B       3 non-null      int64\n",
      " 2   C       3 non-null      int64\n",
      "dtypes: int64(3)\n",
      "memory usage: 204.0 bytes\n",
      "Info of DataFrame:\n",
      " None\n"
     ]
    }
   ],
   "source": [
    "# displaying the info (concise summary including the index dtype, column dtypes, non-null values, and memory usage.)\n",
    "print(\"Info of DataFrame:\\n\", df.info())"
   ]
  },
  {
   "cell_type": "code",
   "execution_count": 32,
   "metadata": {},
   "outputs": [
    {
     "name": "stdout",
     "output_type": "stream",
     "text": [
      "Description of DataFrame:\n",
      "          A    B    C\n",
      "count  3.0  3.0  3.0\n",
      "mean   2.0  5.0  8.0\n",
      "std    1.0  1.0  1.0\n",
      "min    1.0  4.0  7.0\n",
      "25%    1.5  4.5  7.5\n",
      "50%    2.0  5.0  8.0\n",
      "75%    2.5  5.5  8.5\n",
      "max    3.0  6.0  9.0\n"
     ]
    }
   ],
   "source": [
    "# displaying deescrition (descriptive statistics)\n",
    "print(\"Description of DataFrame:\\n\", df.describe())"
   ]
  },
  {
   "cell_type": "markdown",
   "metadata": {},
   "source": [
    "## 4. Data Manipulation\n"
   ]
  },
  {
   "cell_type": "code",
   "execution_count": 34,
   "metadata": {},
   "outputs": [
    {
     "name": "stdout",
     "output_type": "stream",
     "text": [
      "Column A:\n",
      " 0    1\n",
      "1    2\n",
      "2    3\n",
      "Name: A, dtype: int64\n",
      "Columns A and B:\n",
      "    A  B\n",
      "0  1  4\n",
      "1  2  5\n",
      "2  3  6\n"
     ]
    }
   ],
   "source": [
    "# selecting data\n",
    "print(\"Column A:\\n\", df['A'])\n",
    "print(\"Columns A and B:\\n\", df[['A', 'B']])"
   ]
  },
  {
   "cell_type": "code",
   "execution_count": 35,
   "metadata": {},
   "outputs": [
    {
     "name": "stdout",
     "output_type": "stream",
     "text": [
      "Filtered DataFrame (A > 1):\n",
      "    A  B  C\n",
      "1  2  5  8\n",
      "2  3  6  9\n"
     ]
    }
   ],
   "source": [
    "# filtering Data\n",
    "filtered_df = df[df['A'] > 1]\n",
    "print(\"Filtered DataFrame (A > 1):\\n\", filtered_df)"
   ]
  },
  {
   "cell_type": "code",
   "execution_count": 36,
   "metadata": {},
   "outputs": [
    {
     "name": "stdout",
     "output_type": "stream",
     "text": [
      "DataFrame with new column D:\n",
      "    A  B  C  D\n",
      "0  1  4  7  5\n",
      "1  2  5  8  7\n",
      "2  3  6  9  9\n",
      "DataFrame after dropping column D:\n",
      "    A  B  C\n",
      "0  1  4  7\n",
      "1  2  5  8\n",
      "2  3  6  9\n"
     ]
    }
   ],
   "source": [
    "# Adding/Removing Columns\n",
    "df['D'] = df['A'] + df['B']\n",
    "print(\"DataFrame with new column D:\\n\", df)\n",
    "\n",
    "df.drop('D', axis=1, inplace=True)\n",
    "print(\"DataFrame after dropping column D:\\n\", df)"
   ]
  },
  {
   "cell_type": "code",
   "execution_count": 37,
   "metadata": {},
   "outputs": [
    {
     "name": "stdout",
     "output_type": "stream",
     "text": [
      "DataFrame with NaN:\n",
      "    A    B  C\n",
      "0  1  4.0  7\n",
      "1  2  NaN  8\n",
      "2  3  6.0  9\n",
      "DataFrame after dropping NaN:\n",
      "    A    B  C\n",
      "0  1  4.0  7\n",
      "2  3  6.0  9\n",
      "DataFrame after filling NaN with 0:\n",
      "    A    B  C\n",
      "0  1  4.0  7\n",
      "1  2  0.0  8\n",
      "2  3  6.0  9\n"
     ]
    }
   ],
   "source": [
    "# Handling Missing Data\n",
    "df_with_nan = df.copy()\n",
    "df_with_nan.loc[1, 'B'] = np.nan\n",
    "print(\"DataFrame with NaN:\\n\", df_with_nan)\n",
    "print(\"DataFrame after dropping NaN:\\n\", df_with_nan.dropna())\n",
    "print(\"DataFrame after filling NaN with 0:\\n\", df_with_nan.fillna(0))"
   ]
  },
  {
   "cell_type": "markdown",
   "metadata": {},
   "source": [
    "## Task 3: Data Analysis with Pandas"
   ]
  },
  {
   "cell_type": "code",
   "execution_count": 38,
   "metadata": {},
   "outputs": [
    {
     "name": "stdout",
     "output_type": "stream",
     "text": [
      "Mean of column A: 2.0\n",
      "Sum of column A: 6\n"
     ]
    }
   ],
   "source": [
    "# Aggregations\n",
    "print(\"Mean of column A:\", df['A'].mean())\n",
    "print(\"Sum of column A:\", df['A'].sum())"
   ]
  },
  {
   "cell_type": "code",
   "execution_count": 39,
   "metadata": {},
   "outputs": [
    {
     "name": "stdout",
     "output_type": "stream",
     "text": [
      "Merged DataFrame:\n",
      "   key  value_x  value_y\n",
      "0   A        1        4\n",
      "1   B        2        5\n"
     ]
    }
   ],
   "source": [
    "# Merging and Joining\n",
    "df1 = pd.DataFrame({'key': ['A', 'B', 'C'], 'value': [1, 2, 3]})\n",
    "df2 = pd.DataFrame({'key': ['A', 'B', 'D'], 'value': [4, 5, 6]})\n",
    "merged_df = pd.merge(df1, df2, on='key', how='inner')\n",
    "print(\"Merged DataFrame:\\n\", merged_df)\n"
   ]
  },
  {
   "cell_type": "code",
   "execution_count": 40,
   "metadata": {},
   "outputs": [
    {
     "name": "stdout",
     "output_type": "stream",
     "text": [
      "Pivot Table:\n",
      " B    4    5    6\n",
      "A               \n",
      "1  7.0  NaN  NaN\n",
      "2  NaN  8.0  NaN\n",
      "3  NaN  NaN  9.0\n"
     ]
    }
   ],
   "source": [
    "# Pivot Tables\n",
    "pivot_df = df.pivot_table(values='C', index='A', columns='B', aggfunc='mean')\n",
    "print(\"Pivot Table:\\n\", pivot_df)"
   ]
  },
  {
   "cell_type": "code",
   "execution_count": 41,
   "metadata": {},
   "outputs": [
    {
     "name": "stdout",
     "output_type": "stream",
     "text": [
      "DataFrame with Date Index:\n",
      "             A  B  C\n",
      "date               \n",
      "2020-01-01  1  4  7\n",
      "2020-01-02  2  5  8\n",
      "2020-01-03  3  6  9\n",
      "Resampled DataFrame:\n",
      "               A    B    C\n",
      "date                     \n",
      "2020-01-31  2.0  5.0  8.0\n"
     ]
    }
   ],
   "source": [
    "# Time Series Analysis\n",
    "df['date'] = pd.date_range(start='1/1/2020', periods=len(df), freq='D')\n",
    "df.set_index('date', inplace=True)\n",
    "print(\"DataFrame with Date Index:\\n\", df)\n",
    "resampled_df = df.resample('M').mean()\n",
    "print(\"Resampled DataFrame:\\n\", resampled_df)"
   ]
  },
  {
   "cell_type": "code",
   "execution_count": null,
   "metadata": {},
   "outputs": [],
   "source": []
  }
 ],
 "metadata": {
  "kernelspec": {
   "display_name": "base",
   "language": "python",
   "name": "python3"
  },
  "language_info": {
   "codemirror_mode": {
    "name": "ipython",
    "version": 3
   },
   "file_extension": ".py",
   "mimetype": "text/x-python",
   "name": "python",
   "nbconvert_exporter": "python",
   "pygments_lexer": "ipython3",
   "version": "3.11.7"
  }
 },
 "nbformat": 4,
 "nbformat_minor": 2
}
